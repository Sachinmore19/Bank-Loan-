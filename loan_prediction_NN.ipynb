{
 "cells": [
  {
   "cell_type": "markdown",
   "id": "0fbc593b",
   "metadata": {},
   "source": [
    "# Neural Network"
   ]
  },
  {
   "cell_type": "markdown",
   "id": "143e8785",
   "metadata": {},
   "source": [
    "# Problem Statement:\n",
    "A Company wants to automate the loan eligibility process based on customer details provided while filling online application form. The details filled by the customer are Gender, Marital Status, Education, Number of Dependents, Income of self and co applicant, Required Loan Amount, Required Loan Term, Credit History and others.Check eligibility of the Customer given the inputs described above.(Classification)"
   ]
  },
  {
   "cell_type": "code",
   "execution_count": 1,
   "id": "c6cee5d2",
   "metadata": {},
   "outputs": [],
   "source": [
    "import pandas as pd\n",
    "from warnings import filterwarnings\n",
    "filterwarnings(\"ignore\")"
   ]
  },
  {
   "cell_type": "code",
   "execution_count": 2,
   "id": "f9a491f4",
   "metadata": {},
   "outputs": [
    {
     "data": {
      "text/html": [
       "<div>\n",
       "<style scoped>\n",
       "    .dataframe tbody tr th:only-of-type {\n",
       "        vertical-align: middle;\n",
       "    }\n",
       "\n",
       "    .dataframe tbody tr th {\n",
       "        vertical-align: top;\n",
       "    }\n",
       "\n",
       "    .dataframe thead th {\n",
       "        text-align: right;\n",
       "    }\n",
       "</style>\n",
       "<table border=\"1\" class=\"dataframe\">\n",
       "  <thead>\n",
       "    <tr style=\"text-align: right;\">\n",
       "      <th></th>\n",
       "      <th>Loan_ID</th>\n",
       "      <th>Gender</th>\n",
       "      <th>Married</th>\n",
       "      <th>Dependents</th>\n",
       "      <th>Education</th>\n",
       "      <th>Self_Employed</th>\n",
       "      <th>ApplicantIncome</th>\n",
       "      <th>CoapplicantIncome</th>\n",
       "      <th>LoanAmount</th>\n",
       "      <th>Loan_Amount_Term</th>\n",
       "      <th>Credit_History</th>\n",
       "      <th>Property_Area</th>\n",
       "      <th>Loan_Status</th>\n",
       "    </tr>\n",
       "  </thead>\n",
       "  <tbody>\n",
       "    <tr>\n",
       "      <th>0</th>\n",
       "      <td>LP001002</td>\n",
       "      <td>Male</td>\n",
       "      <td>No</td>\n",
       "      <td>0</td>\n",
       "      <td>Graduate</td>\n",
       "      <td>No</td>\n",
       "      <td>5849.0</td>\n",
       "      <td>0.0</td>\n",
       "      <td>NaN</td>\n",
       "      <td>360.0</td>\n",
       "      <td>1.0</td>\n",
       "      <td>Urban</td>\n",
       "      <td>Y</td>\n",
       "    </tr>\n",
       "    <tr>\n",
       "      <th>1</th>\n",
       "      <td>LP001003</td>\n",
       "      <td>Male</td>\n",
       "      <td>Yes</td>\n",
       "      <td>1</td>\n",
       "      <td>Graduate</td>\n",
       "      <td>No</td>\n",
       "      <td>NaN</td>\n",
       "      <td>1508.0</td>\n",
       "      <td>128.0</td>\n",
       "      <td>360.0</td>\n",
       "      <td>1.0</td>\n",
       "      <td>Rural</td>\n",
       "      <td>N</td>\n",
       "    </tr>\n",
       "    <tr>\n",
       "      <th>2</th>\n",
       "      <td>LP001005</td>\n",
       "      <td>Male</td>\n",
       "      <td>Yes</td>\n",
       "      <td>0</td>\n",
       "      <td>Graduate</td>\n",
       "      <td>Yes</td>\n",
       "      <td>3000.0</td>\n",
       "      <td>0.0</td>\n",
       "      <td>66.0</td>\n",
       "      <td>360.0</td>\n",
       "      <td>1.0</td>\n",
       "      <td>Urban</td>\n",
       "      <td>Y</td>\n",
       "    </tr>\n",
       "    <tr>\n",
       "      <th>3</th>\n",
       "      <td>LP001006</td>\n",
       "      <td>Male</td>\n",
       "      <td>Yes</td>\n",
       "      <td>0</td>\n",
       "      <td>Not Graduate</td>\n",
       "      <td>No</td>\n",
       "      <td>2583.0</td>\n",
       "      <td>2358.0</td>\n",
       "      <td>120.0</td>\n",
       "      <td>360.0</td>\n",
       "      <td>1.0</td>\n",
       "      <td>Urban</td>\n",
       "      <td>Y</td>\n",
       "    </tr>\n",
       "    <tr>\n",
       "      <th>4</th>\n",
       "      <td>LP001008</td>\n",
       "      <td>Male</td>\n",
       "      <td>No</td>\n",
       "      <td>0</td>\n",
       "      <td>Graduate</td>\n",
       "      <td>No</td>\n",
       "      <td>6000.0</td>\n",
       "      <td>0.0</td>\n",
       "      <td>141.0</td>\n",
       "      <td>360.0</td>\n",
       "      <td>1.0</td>\n",
       "      <td>Urban</td>\n",
       "      <td>Y</td>\n",
       "    </tr>\n",
       "  </tbody>\n",
       "</table>\n",
       "</div>"
      ],
      "text/plain": [
       "    Loan_ID Gender Married Dependents     Education Self_Employed  \\\n",
       "0  LP001002   Male      No          0      Graduate            No   \n",
       "1  LP001003   Male     Yes          1      Graduate            No   \n",
       "2  LP001005   Male     Yes          0      Graduate           Yes   \n",
       "3  LP001006   Male     Yes          0  Not Graduate            No   \n",
       "4  LP001008   Male      No          0      Graduate            No   \n",
       "\n",
       "   ApplicantIncome  CoapplicantIncome  LoanAmount  Loan_Amount_Term  \\\n",
       "0           5849.0                0.0         NaN             360.0   \n",
       "1              NaN             1508.0       128.0             360.0   \n",
       "2           3000.0                0.0        66.0             360.0   \n",
       "3           2583.0             2358.0       120.0             360.0   \n",
       "4           6000.0                0.0       141.0             360.0   \n",
       "\n",
       "   Credit_History Property_Area Loan_Status  \n",
       "0             1.0         Urban           Y  \n",
       "1             1.0         Rural           N  \n",
       "2             1.0         Urban           Y  \n",
       "3             1.0         Urban           Y  \n",
       "4             1.0         Urban           Y  "
      ]
     },
     "execution_count": 2,
     "metadata": {},
     "output_type": "execute_result"
    }
   ],
   "source": [
    "A=pd.read_csv(\"D:/python/datasets/training_set.csv\")\n",
    "A.head()"
   ]
  },
  {
   "cell_type": "code",
   "execution_count": 3,
   "id": "c46922fe",
   "metadata": {},
   "outputs": [],
   "source": [
    "B=A.drop(labels=(\"Loan_ID\"),axis=1)"
   ]
  },
  {
   "cell_type": "code",
   "execution_count": 4,
   "id": "ef6040f1",
   "metadata": {},
   "outputs": [],
   "source": [
    "from preprocessing_6PM import replacer\n",
    "replacer(B)"
   ]
  },
  {
   "cell_type": "code",
   "execution_count": 5,
   "id": "e041d252",
   "metadata": {},
   "outputs": [],
   "source": [
    "Y=B[[\"Loan_Status\"]]\n",
    "X=B.drop(labels=(\"Loan_Status\"),axis=1)"
   ]
  },
  {
   "cell_type": "code",
   "execution_count": 6,
   "id": "0efa1441",
   "metadata": {},
   "outputs": [],
   "source": [
    "from preprocessing_6PM import data_prep\n",
    "Xnew=data_prep(X)"
   ]
  },
  {
   "cell_type": "code",
   "execution_count": 7,
   "id": "22ab9ee3",
   "metadata": {},
   "outputs": [],
   "source": [
    "from sklearn.preprocessing import LabelEncoder\n",
    "le=LabelEncoder()\n",
    "Y.Loan_Status=le.fit_transform(Y)"
   ]
  },
  {
   "cell_type": "code",
   "execution_count": 8,
   "id": "fd1b2f86",
   "metadata": {},
   "outputs": [],
   "source": [
    "from sklearn.model_selection import train_test_split\n",
    "xtrain,xtest,ytrain,ytest=train_test_split(Xnew,Y,test_size=0.2,random_state=21)"
   ]
  },
  {
   "cell_type": "code",
   "execution_count": 9,
   "id": "e4c2628f",
   "metadata": {},
   "outputs": [],
   "source": [
    "from keras.models import Sequential\n",
    "from keras.layers import Dense,Dropout\n",
    "from keras.callbacks import EarlyStopping"
   ]
  },
  {
   "cell_type": "code",
   "execution_count": 11,
   "id": "be9293f1",
   "metadata": {},
   "outputs": [],
   "source": [
    "# Y is in categorical form thats why we use the activation=sigmoid "
   ]
  },
  {
   "cell_type": "code",
   "execution_count": 10,
   "id": "5b7f2dd3",
   "metadata": {},
   "outputs": [],
   "source": [
    "nn = Sequential()\n",
    "nn.add(Dense(200,input_dim=(Xnew.shape[1])))\n",
    "nn.add(Dense(200))\n",
    "nn.add(Dropout(0.2))\n",
    "nn.add(Dense(200))\n",
    "nn.add(Dropout(0.2))\n",
    "nn.add(Dense(200))\n",
    "nn.add(Dropout(0.2))\n",
    "nn.add(Dense(1,activation=\"sigmoid\"))\n"
   ]
  },
  {
   "cell_type": "code",
   "execution_count": 13,
   "id": "6637b802",
   "metadata": {},
   "outputs": [
    {
     "name": "stdout",
     "output_type": "stream",
     "text": [
      "Epoch 1/100\n",
      "20/20 [==============================] - 3s 36ms/step - loss: 0.4713 - accuracy: 0.7959 - val_loss: 0.5138 - val_accuracy: 0.7980\n",
      "Epoch 2/100\n",
      "20/20 [==============================] - 0s 16ms/step - loss: 0.4600 - accuracy: 0.8189 - val_loss: 0.5649 - val_accuracy: 0.8081\n",
      "Epoch 3/100\n",
      "20/20 [==============================] - 0s 16ms/step - loss: 0.4610 - accuracy: 0.8138 - val_loss: 0.5313 - val_accuracy: 0.8081\n",
      "Epoch 4/100\n",
      "20/20 [==============================] - 0s 18ms/step - loss: 0.4623 - accuracy: 0.8010 - val_loss: 0.5568 - val_accuracy: 0.8081\n",
      "Epoch 5/100\n",
      "20/20 [==============================] - 0s 18ms/step - loss: 0.4658 - accuracy: 0.8112 - val_loss: 0.5627 - val_accuracy: 0.8081\n",
      "Epoch 6/100\n",
      "20/20 [==============================] - 0s 18ms/step - loss: 0.4639 - accuracy: 0.8163 - val_loss: 0.5168 - val_accuracy: 0.8081\n",
      "Epoch 7/100\n",
      "20/20 [==============================] - 0s 18ms/step - loss: 0.4541 - accuracy: 0.8112 - val_loss: 0.5379 - val_accuracy: 0.8081\n",
      "Epoch 8/100\n",
      "20/20 [==============================] - 0s 17ms/step - loss: 0.4515 - accuracy: 0.8112 - val_loss: 0.6210 - val_accuracy: 0.8081\n",
      "Epoch 9/100\n",
      "20/20 [==============================] - 0s 18ms/step - loss: 0.4636 - accuracy: 0.8138 - val_loss: 0.5599 - val_accuracy: 0.8081\n",
      "Epoch 10/100\n",
      "20/20 [==============================] - 0s 18ms/step - loss: 0.4616 - accuracy: 0.8138 - val_loss: 0.5240 - val_accuracy: 0.7980\n",
      "Epoch 11/100\n",
      "20/20 [==============================] - 0s 18ms/step - loss: 0.4661 - accuracy: 0.8138 - val_loss: 0.5075 - val_accuracy: 0.8081\n",
      "Epoch 12/100\n",
      "20/20 [==============================] - 0s 19ms/step - loss: 0.4584 - accuracy: 0.8138 - val_loss: 0.5065 - val_accuracy: 0.8081\n",
      "Epoch 13/100\n",
      "20/20 [==============================] - 0s 19ms/step - loss: 0.4638 - accuracy: 0.8138 - val_loss: 0.5232 - val_accuracy: 0.7879\n",
      "Epoch 14/100\n",
      "20/20 [==============================] - 0s 18ms/step - loss: 0.4572 - accuracy: 0.8163 - val_loss: 0.5131 - val_accuracy: 0.8081\n",
      "Epoch 15/100\n",
      "20/20 [==============================] - 0s 20ms/step - loss: 0.4571 - accuracy: 0.8061 - val_loss: 0.4971 - val_accuracy: 0.8081\n",
      "Epoch 16/100\n",
      "20/20 [==============================] - 1s 26ms/step - loss: 0.4661 - accuracy: 0.8061 - val_loss: 0.5150 - val_accuracy: 0.8081\n",
      "Epoch 17/100\n",
      "20/20 [==============================] - 0s 20ms/step - loss: 0.4570 - accuracy: 0.8138 - val_loss: 0.4978 - val_accuracy: 0.7980\n",
      "Epoch 18/100\n",
      "20/20 [==============================] - 0s 21ms/step - loss: 0.4592 - accuracy: 0.8189 - val_loss: 0.5163 - val_accuracy: 0.8081\n",
      "Epoch 19/100\n",
      "20/20 [==============================] - 0s 18ms/step - loss: 0.4609 - accuracy: 0.8163 - val_loss: 0.5352 - val_accuracy: 0.8081\n",
      "Epoch 20/100\n",
      "20/20 [==============================] - 0s 17ms/step - loss: 0.4551 - accuracy: 0.8138 - val_loss: 0.5477 - val_accuracy: 0.7879\n",
      "Epoch 21/100\n",
      "20/20 [==============================] - 0s 18ms/step - loss: 0.4590 - accuracy: 0.8112 - val_loss: 0.5098 - val_accuracy: 0.8081\n",
      "Epoch 22/100\n",
      "20/20 [==============================] - 0s 17ms/step - loss: 0.4593 - accuracy: 0.8112 - val_loss: 0.5291 - val_accuracy: 0.8081\n",
      "Epoch 23/100\n",
      "20/20 [==============================] - 0s 17ms/step - loss: 0.4565 - accuracy: 0.8138 - val_loss: 0.5408 - val_accuracy: 0.7879\n",
      "Epoch 24/100\n",
      "20/20 [==============================] - 0s 17ms/step - loss: 0.4588 - accuracy: 0.8189 - val_loss: 0.5321 - val_accuracy: 0.8081\n",
      "Epoch 25/100\n",
      "20/20 [==============================] - 0s 16ms/step - loss: 0.4611 - accuracy: 0.8138 - val_loss: 0.5331 - val_accuracy: 0.7879\n",
      "Epoch 26/100\n",
      "20/20 [==============================] - 0s 16ms/step - loss: 0.4530 - accuracy: 0.8138 - val_loss: 0.5261 - val_accuracy: 0.7879\n",
      "Epoch 27/100\n",
      "20/20 [==============================] - 0s 15ms/step - loss: 0.4615 - accuracy: 0.8036 - val_loss: 0.5087 - val_accuracy: 0.8081\n",
      "Epoch 28/100\n",
      "20/20 [==============================] - 0s 14ms/step - loss: 0.4551 - accuracy: 0.8036 - val_loss: 0.5111 - val_accuracy: 0.8081\n",
      "Epoch 29/100\n",
      "20/20 [==============================] - 0s 15ms/step - loss: 0.4603 - accuracy: 0.8087 - val_loss: 0.4909 - val_accuracy: 0.8081\n",
      "Epoch 30/100\n",
      "20/20 [==============================] - 0s 12ms/step - loss: 0.4574 - accuracy: 0.8061 - val_loss: 0.5172 - val_accuracy: 0.8081\n",
      "Epoch 31/100\n",
      "20/20 [==============================] - 0s 12ms/step - loss: 0.4552 - accuracy: 0.8087 - val_loss: 0.5349 - val_accuracy: 0.8081\n",
      "Epoch 32/100\n",
      "20/20 [==============================] - 0s 13ms/step - loss: 0.4410 - accuracy: 0.8138 - val_loss: 0.6086 - val_accuracy: 0.8081\n",
      "Epoch 33/100\n",
      "20/20 [==============================] - 0s 13ms/step - loss: 0.4631 - accuracy: 0.8163 - val_loss: 0.4854 - val_accuracy: 0.8081\n",
      "Epoch 34/100\n",
      "20/20 [==============================] - 0s 15ms/step - loss: 0.4560 - accuracy: 0.8087 - val_loss: 0.5049 - val_accuracy: 0.8081\n",
      "Epoch 35/100\n",
      "20/20 [==============================] - 0s 14ms/step - loss: 0.4560 - accuracy: 0.8087 - val_loss: 0.4950 - val_accuracy: 0.8081\n",
      "Epoch 36/100\n",
      "20/20 [==============================] - 0s 13ms/step - loss: 0.4566 - accuracy: 0.8163 - val_loss: 0.5496 - val_accuracy: 0.8081\n",
      "Epoch 37/100\n",
      "20/20 [==============================] - 0s 12ms/step - loss: 0.4563 - accuracy: 0.8189 - val_loss: 0.5352 - val_accuracy: 0.8081\n",
      "Epoch 38/100\n",
      "20/20 [==============================] - 0s 12ms/step - loss: 0.4470 - accuracy: 0.8163 - val_loss: 0.5072 - val_accuracy: 0.7980\n",
      "Epoch 39/100\n",
      "20/20 [==============================] - 0s 12ms/step - loss: 0.4556 - accuracy: 0.8112 - val_loss: 0.5393 - val_accuracy: 0.8081\n",
      "Epoch 40/100\n",
      "20/20 [==============================] - 0s 18ms/step - loss: 0.4457 - accuracy: 0.8138 - val_loss: 0.5111 - val_accuracy: 0.8081\n",
      "Epoch 41/100\n",
      "20/20 [==============================] - 0s 19ms/step - loss: 0.4608 - accuracy: 0.8189 - val_loss: 0.5378 - val_accuracy: 0.8081\n",
      "Epoch 42/100\n",
      "20/20 [==============================] - 0s 19ms/step - loss: 0.4623 - accuracy: 0.8112 - val_loss: 0.5174 - val_accuracy: 0.8081\n",
      "Epoch 43/100\n",
      "20/20 [==============================] - 0s 19ms/step - loss: 0.4592 - accuracy: 0.8112 - val_loss: 0.5142 - val_accuracy: 0.8081\n",
      "Epoch 44/100\n",
      "20/20 [==============================] - 0s 19ms/step - loss: 0.4571 - accuracy: 0.8087 - val_loss: 0.4962 - val_accuracy: 0.7980\n",
      "Epoch 45/100\n",
      "20/20 [==============================] - 0s 18ms/step - loss: 0.4555 - accuracy: 0.8087 - val_loss: 0.4979 - val_accuracy: 0.7980\n",
      "Epoch 46/100\n",
      "20/20 [==============================] - 0s 17ms/step - loss: 0.4522 - accuracy: 0.8112 - val_loss: 0.5031 - val_accuracy: 0.8081\n",
      "Epoch 47/100\n",
      "20/20 [==============================] - 0s 18ms/step - loss: 0.4568 - accuracy: 0.8112 - val_loss: 0.4963 - val_accuracy: 0.8081\n",
      "Epoch 48/100\n",
      "20/20 [==============================] - 0s 17ms/step - loss: 0.4577 - accuracy: 0.8163 - val_loss: 0.4983 - val_accuracy: 0.8081\n",
      "Epoch 49/100\n",
      "20/20 [==============================] - 0s 18ms/step - loss: 0.4531 - accuracy: 0.8138 - val_loss: 0.5199 - val_accuracy: 0.7980\n",
      "Epoch 50/100\n",
      "20/20 [==============================] - 0s 18ms/step - loss: 0.4878 - accuracy: 0.8061 - val_loss: 0.5310 - val_accuracy: 0.8081\n",
      "Epoch 51/100\n",
      "20/20 [==============================] - 0s 17ms/step - loss: 0.4522 - accuracy: 0.8112 - val_loss: 0.5421 - val_accuracy: 0.7980\n",
      "Epoch 52/100\n",
      "20/20 [==============================] - 0s 17ms/step - loss: 0.4567 - accuracy: 0.8112 - val_loss: 0.5444 - val_accuracy: 0.8081\n",
      "Epoch 53/100\n",
      "20/20 [==============================] - 0s 18ms/step - loss: 0.4516 - accuracy: 0.8189 - val_loss: 0.5413 - val_accuracy: 0.8081\n",
      "Epoch 54/100\n",
      "20/20 [==============================] - 0s 18ms/step - loss: 0.4591 - accuracy: 0.8112 - val_loss: 0.5276 - val_accuracy: 0.8081\n",
      "Epoch 55/100\n",
      "20/20 [==============================] - 0s 18ms/step - loss: 0.4506 - accuracy: 0.8087 - val_loss: 0.5177 - val_accuracy: 0.8081\n",
      "Epoch 56/100\n",
      "20/20 [==============================] - 0s 18ms/step - loss: 0.4546 - accuracy: 0.8163 - val_loss: 0.5321 - val_accuracy: 0.8081\n",
      "Epoch 57/100\n",
      "20/20 [==============================] - 0s 18ms/step - loss: 0.4562 - accuracy: 0.8138 - val_loss: 0.5132 - val_accuracy: 0.7980\n",
      "Epoch 58/100\n",
      "20/20 [==============================] - 0s 19ms/step - loss: 0.4570 - accuracy: 0.8138 - val_loss: 0.5582 - val_accuracy: 0.7980\n",
      "Epoch 59/100\n",
      "20/20 [==============================] - 0s 17ms/step - loss: 0.4621 - accuracy: 0.8163 - val_loss: 0.5099 - val_accuracy: 0.8081\n",
      "Epoch 60/100\n",
      "20/20 [==============================] - 0s 17ms/step - loss: 0.4641 - accuracy: 0.8138 - val_loss: 0.5148 - val_accuracy: 0.7980\n",
      "Epoch 61/100\n",
      "20/20 [==============================] - 0s 17ms/step - loss: 0.4555 - accuracy: 0.8189 - val_loss: 0.5083 - val_accuracy: 0.8081\n",
      "Epoch 62/100\n",
      "20/20 [==============================] - 0s 17ms/step - loss: 0.4541 - accuracy: 0.8061 - val_loss: 0.5184 - val_accuracy: 0.8081\n",
      "Epoch 63/100\n",
      "20/20 [==============================] - 0s 18ms/step - loss: 0.4556 - accuracy: 0.8138 - val_loss: 0.4993 - val_accuracy: 0.7980\n",
      "Epoch 64/100\n",
      "20/20 [==============================] - 0s 17ms/step - loss: 0.4546 - accuracy: 0.8087 - val_loss: 0.5255 - val_accuracy: 0.7980\n",
      "Epoch 65/100\n",
      "20/20 [==============================] - 0s 17ms/step - loss: 0.4515 - accuracy: 0.8214 - val_loss: 0.4959 - val_accuracy: 0.8081\n",
      "Epoch 66/100\n",
      "20/20 [==============================] - 0s 17ms/step - loss: 0.4558 - accuracy: 0.8061 - val_loss: 0.5381 - val_accuracy: 0.7980\n",
      "Epoch 67/100\n",
      "20/20 [==============================] - 0s 19ms/step - loss: 0.4605 - accuracy: 0.8112 - val_loss: 0.5393 - val_accuracy: 0.8081\n",
      "Epoch 68/100\n",
      "20/20 [==============================] - 0s 20ms/step - loss: 0.4528 - accuracy: 0.8163 - val_loss: 0.4950 - val_accuracy: 0.8081\n",
      "Epoch 69/100\n",
      "20/20 [==============================] - 0s 18ms/step - loss: 0.4548 - accuracy: 0.8163 - val_loss: 0.5473 - val_accuracy: 0.7980\n",
      "Epoch 70/100\n",
      "20/20 [==============================] - 0s 20ms/step - loss: 0.4551 - accuracy: 0.8189 - val_loss: 0.5184 - val_accuracy: 0.7980\n",
      "Epoch 71/100\n",
      "20/20 [==============================] - 0s 20ms/step - loss: 0.4625 - accuracy: 0.8138 - val_loss: 0.5123 - val_accuracy: 0.8081\n",
      "Epoch 72/100\n",
      "20/20 [==============================] - 0s 20ms/step - loss: 0.4493 - accuracy: 0.8087 - val_loss: 0.5118 - val_accuracy: 0.8081\n",
      "Epoch 73/100\n",
      "20/20 [==============================] - 0s 17ms/step - loss: 0.4522 - accuracy: 0.8061 - val_loss: 0.5026 - val_accuracy: 0.7980\n",
      "Epoch 74/100\n",
      "20/20 [==============================] - 0s 17ms/step - loss: 0.4554 - accuracy: 0.8163 - val_loss: 0.5127 - val_accuracy: 0.8081\n",
      "Epoch 75/100\n",
      "20/20 [==============================] - 0s 17ms/step - loss: 0.4547 - accuracy: 0.8112 - val_loss: 0.5336 - val_accuracy: 0.8081\n",
      "Epoch 76/100\n",
      "20/20 [==============================] - 0s 18ms/step - loss: 0.4594 - accuracy: 0.8087 - val_loss: 0.5255 - val_accuracy: 0.8081\n",
      "Epoch 77/100\n",
      "20/20 [==============================] - 0s 16ms/step - loss: 0.4545 - accuracy: 0.8138 - val_loss: 0.5171 - val_accuracy: 0.8081\n",
      "Epoch 78/100\n",
      "20/20 [==============================] - 0s 14ms/step - loss: 0.4560 - accuracy: 0.8163 - val_loss: 0.5885 - val_accuracy: 0.8081\n",
      "Epoch 79/100\n",
      "20/20 [==============================] - 0s 14ms/step - loss: 0.4531 - accuracy: 0.8138 - val_loss: 0.5036 - val_accuracy: 0.8081\n",
      "Epoch 80/100\n",
      "20/20 [==============================] - 0s 16ms/step - loss: 0.4584 - accuracy: 0.8138 - val_loss: 0.5037 - val_accuracy: 0.8081\n",
      "Epoch 81/100\n",
      "20/20 [==============================] - 0s 17ms/step - loss: 0.4577 - accuracy: 0.8163 - val_loss: 0.5313 - val_accuracy: 0.8081\n",
      "Epoch 82/100\n",
      "20/20 [==============================] - 0s 17ms/step - loss: 0.4530 - accuracy: 0.8087 - val_loss: 0.5293 - val_accuracy: 0.8081\n",
      "Epoch 83/100\n",
      "20/20 [==============================] - 0s 17ms/step - loss: 0.4488 - accuracy: 0.8138 - val_loss: 0.5311 - val_accuracy: 0.7980\n",
      "Epoch 84/100\n",
      "20/20 [==============================] - 0s 17ms/step - loss: 0.4529 - accuracy: 0.8138 - val_loss: 0.5212 - val_accuracy: 0.8081\n",
      "Epoch 85/100\n",
      "20/20 [==============================] - 0s 17ms/step - loss: 0.4520 - accuracy: 0.8163 - val_loss: 0.4997 - val_accuracy: 0.7980\n",
      "Epoch 86/100\n",
      "20/20 [==============================] - 0s 17ms/step - loss: 0.4572 - accuracy: 0.8138 - val_loss: 0.5190 - val_accuracy: 0.8081\n",
      "Epoch 87/100\n",
      "20/20 [==============================] - 0s 17ms/step - loss: 0.4494 - accuracy: 0.8087 - val_loss: 0.6052 - val_accuracy: 0.8081\n",
      "Epoch 88/100\n",
      "20/20 [==============================] - 0s 17ms/step - loss: 0.4607 - accuracy: 0.8189 - val_loss: 0.5021 - val_accuracy: 0.8081\n",
      "Epoch 89/100\n",
      "20/20 [==============================] - 0s 17ms/step - loss: 0.4551 - accuracy: 0.8061 - val_loss: 0.5039 - val_accuracy: 0.8081\n",
      "Epoch 90/100\n",
      "20/20 [==============================] - 0s 18ms/step - loss: 0.4568 - accuracy: 0.8061 - val_loss: 0.5395 - val_accuracy: 0.7980\n",
      "Epoch 91/100\n",
      "20/20 [==============================] - 0s 17ms/step - loss: 0.4578 - accuracy: 0.8138 - val_loss: 0.5138 - val_accuracy: 0.7980\n",
      "Epoch 92/100\n",
      "20/20 [==============================] - 0s 18ms/step - loss: 0.4581 - accuracy: 0.8087 - val_loss: 0.5116 - val_accuracy: 0.7980\n",
      "Epoch 93/100\n",
      "20/20 [==============================] - 0s 18ms/step - loss: 0.4518 - accuracy: 0.8112 - val_loss: 0.5055 - val_accuracy: 0.7980\n",
      "Epoch 94/100\n",
      "20/20 [==============================] - 0s 17ms/step - loss: 0.4543 - accuracy: 0.8036 - val_loss: 0.5226 - val_accuracy: 0.8081\n",
      "Epoch 95/100\n",
      "20/20 [==============================] - 0s 17ms/step - loss: 0.4523 - accuracy: 0.8138 - val_loss: 0.5518 - val_accuracy: 0.8081\n",
      "Epoch 96/100\n",
      "20/20 [==============================] - 0s 17ms/step - loss: 0.4643 - accuracy: 0.8163 - val_loss: 0.5181 - val_accuracy: 0.8081\n",
      "Epoch 97/100\n",
      "20/20 [==============================] - 0s 17ms/step - loss: 0.4539 - accuracy: 0.8112 - val_loss: 0.5171 - val_accuracy: 0.8081\n",
      "Epoch 98/100\n",
      "20/20 [==============================] - 0s 17ms/step - loss: 0.4541 - accuracy: 0.8087 - val_loss: 0.5045 - val_accuracy: 0.8081\n",
      "Epoch 99/100\n",
      "20/20 [==============================] - 0s 17ms/step - loss: 0.4516 - accuracy: 0.8138 - val_loss: 0.5302 - val_accuracy: 0.8081\n",
      "Epoch 100/100\n",
      "20/20 [==============================] - 0s 17ms/step - loss: 0.4466 - accuracy: 0.8036 - val_loss: 0.5443 - val_accuracy: 0.8081\n"
     ]
    },
    {
     "data": {
      "text/plain": [
       "<keras.callbacks.History at 0x2992bf1148>"
      ]
     },
     "execution_count": 13,
     "metadata": {},
     "output_type": "execute_result"
    }
   ],
   "source": [
    "nn.compile(loss=\"binary_crossentropy\",metrics=[\"accuracy\"])\n",
    "nn.fit(xtrain,ytrain,validation_split=0.2,batch_size=20,epochs=100)"
   ]
  },
  {
   "cell_type": "code",
   "execution_count": 14,
   "id": "e2d12595",
   "metadata": {},
   "outputs": [
    {
     "data": {
      "text/html": [
       "<div>\n",
       "<style scoped>\n",
       "    .dataframe tbody tr th:only-of-type {\n",
       "        vertical-align: middle;\n",
       "    }\n",
       "\n",
       "    .dataframe tbody tr th {\n",
       "        vertical-align: top;\n",
       "    }\n",
       "\n",
       "    .dataframe thead th {\n",
       "        text-align: right;\n",
       "    }\n",
       "</style>\n",
       "<table border=\"1\" class=\"dataframe\">\n",
       "  <thead>\n",
       "    <tr style=\"text-align: right;\">\n",
       "      <th></th>\n",
       "      <th>Loan_ID</th>\n",
       "      <th>Gender</th>\n",
       "      <th>Married</th>\n",
       "      <th>Dependents</th>\n",
       "      <th>Education</th>\n",
       "      <th>Self_Employed</th>\n",
       "      <th>ApplicantIncome</th>\n",
       "      <th>CoapplicantIncome</th>\n",
       "      <th>LoanAmount</th>\n",
       "      <th>Loan_Amount_Term</th>\n",
       "      <th>Credit_History</th>\n",
       "      <th>Property_Area</th>\n",
       "    </tr>\n",
       "  </thead>\n",
       "  <tbody>\n",
       "    <tr>\n",
       "      <th>0</th>\n",
       "      <td>LP001015</td>\n",
       "      <td>Male</td>\n",
       "      <td>Yes</td>\n",
       "      <td>0</td>\n",
       "      <td>Graduate</td>\n",
       "      <td>No</td>\n",
       "      <td>5720</td>\n",
       "      <td>0</td>\n",
       "      <td>110.0</td>\n",
       "      <td>360.0</td>\n",
       "      <td>1.0</td>\n",
       "      <td>Urban</td>\n",
       "    </tr>\n",
       "    <tr>\n",
       "      <th>1</th>\n",
       "      <td>LP001022</td>\n",
       "      <td>Male</td>\n",
       "      <td>Yes</td>\n",
       "      <td>1</td>\n",
       "      <td>Graduate</td>\n",
       "      <td>No</td>\n",
       "      <td>3076</td>\n",
       "      <td>1500</td>\n",
       "      <td>126.0</td>\n",
       "      <td>360.0</td>\n",
       "      <td>1.0</td>\n",
       "      <td>Urban</td>\n",
       "    </tr>\n",
       "  </tbody>\n",
       "</table>\n",
       "</div>"
      ],
      "text/plain": [
       "    Loan_ID Gender Married Dependents Education Self_Employed  \\\n",
       "0  LP001015   Male     Yes          0  Graduate            No   \n",
       "1  LP001022   Male     Yes          1  Graduate            No   \n",
       "\n",
       "   ApplicantIncome  CoapplicantIncome  LoanAmount  Loan_Amount_Term  \\\n",
       "0             5720                  0       110.0             360.0   \n",
       "1             3076               1500       126.0             360.0   \n",
       "\n",
       "   Credit_History Property_Area  \n",
       "0             1.0         Urban  \n",
       "1             1.0         Urban  "
      ]
     },
     "execution_count": 14,
     "metadata": {},
     "output_type": "execute_result"
    }
   ],
   "source": [
    "C=pd.read_csv(\"D:/python/datasets/testing_set.csv\")\n",
    "C.head(2)"
   ]
  },
  {
   "cell_type": "code",
   "execution_count": 20,
   "id": "c6333725",
   "metadata": {},
   "outputs": [],
   "source": [
    "D=C.drop(labels=(\"Loan_ID\"),axis=1)"
   ]
  },
  {
   "cell_type": "code",
   "execution_count": 21,
   "id": "f7bfb36a",
   "metadata": {},
   "outputs": [],
   "source": [
    "from preprocessing_6PM import replacer,data_prep\n",
    "replacer(D)"
   ]
  },
  {
   "cell_type": "code",
   "execution_count": 23,
   "id": "baff0289",
   "metadata": {},
   "outputs": [],
   "source": [
    "test=data_prep(D)"
   ]
  },
  {
   "cell_type": "code",
   "execution_count": 24,
   "id": "1942a404",
   "metadata": {},
   "outputs": [
    {
     "data": {
      "text/plain": [
       "Index(['ApplicantIncome', 'CoapplicantIncome', 'LoanAmount',\n",
       "       'Loan_Amount_Term', 'Credit_History', 'Gender_Female', 'Gender_Male',\n",
       "       'Married_No', 'Married_Yes', 'Dependents_0', 'Dependents_1',\n",
       "       'Dependents_2', 'Dependents_3+', 'Education_Graduate',\n",
       "       'Education_Not Graduate', 'Self_Employed_No', 'Self_Employed_Yes',\n",
       "       'Property_Area_Rural', 'Property_Area_Semiurban',\n",
       "       'Property_Area_Urban'],\n",
       "      dtype='object')"
      ]
     },
     "execution_count": 24,
     "metadata": {},
     "output_type": "execute_result"
    }
   ],
   "source": [
    "test.columns"
   ]
  },
  {
   "cell_type": "code",
   "execution_count": 25,
   "id": "cc856285",
   "metadata": {},
   "outputs": [
    {
     "data": {
      "text/plain": [
       "Index(['ApplicantIncome', 'CoapplicantIncome', 'LoanAmount',\n",
       "       'Loan_Amount_Term', 'Credit_History', 'Gender_Female', 'Gender_Male',\n",
       "       'Married_No', 'Married_Yes', 'Dependents_0', 'Dependents_1',\n",
       "       'Dependents_2', 'Dependents_3+', 'Education_Graduate',\n",
       "       'Education_Not Graduate', 'Self_Employed_No', 'Self_Employed_Yes',\n",
       "       'Property_Area_Rural', 'Property_Area_Semiurban',\n",
       "       'Property_Area_Urban'],\n",
       "      dtype='object')"
      ]
     },
     "execution_count": 25,
     "metadata": {},
     "output_type": "execute_result"
    }
   ],
   "source": [
    "Xnew.columns"
   ]
  },
  {
   "cell_type": "code",
   "execution_count": 26,
   "id": "f938e9dc",
   "metadata": {},
   "outputs": [
    {
     "data": {
      "text/plain": [
       "(367, 20)"
      ]
     },
     "execution_count": 26,
     "metadata": {},
     "output_type": "execute_result"
    }
   ],
   "source": [
    "test.shape"
   ]
  },
  {
   "cell_type": "code",
   "execution_count": 27,
   "id": "f8632655",
   "metadata": {},
   "outputs": [
    {
     "data": {
      "text/plain": [
       "(614, 20)"
      ]
     },
     "execution_count": 27,
     "metadata": {},
     "output_type": "execute_result"
    }
   ],
   "source": [
    "Xnew.shape"
   ]
  },
  {
   "cell_type": "code",
   "execution_count": 28,
   "id": "b176a8f3",
   "metadata": {},
   "outputs": [],
   "source": [
    "#both the data have same columns 20 then we predict data"
   ]
  },
  {
   "cell_type": "code",
   "execution_count": 31,
   "id": "d177ee69",
   "metadata": {},
   "outputs": [],
   "source": [
    "#convert the data into 0 & 1"
   ]
  },
  {
   "cell_type": "code",
   "execution_count": 32,
   "id": "00641ead",
   "metadata": {},
   "outputs": [],
   "source": [
    "Q = []\n",
    "for i in nn.predict(test):\n",
    "    if(i[0] < 0.5):\n",
    "        Q.append(0)\n",
    "    else:\n",
    "        Q.append(1)"
   ]
  },
  {
   "cell_type": "code",
   "execution_count": 33,
   "id": "eaed5046",
   "metadata": {},
   "outputs": [],
   "source": [
    "pred = le.inverse_transform(Q)"
   ]
  },
  {
   "cell_type": "code",
   "execution_count": 41,
   "id": "e89ca5e7",
   "metadata": {},
   "outputs": [],
   "source": [
    "B=pd.read_csv(\"D:/python/datasets/testing_set.csv\")"
   ]
  },
  {
   "cell_type": "code",
   "execution_count": 42,
   "id": "e552e815",
   "metadata": {},
   "outputs": [],
   "source": [
    "C = B[[\"Loan_ID\"]]"
   ]
  },
  {
   "cell_type": "code",
   "execution_count": 43,
   "id": "411b86e9",
   "metadata": {},
   "outputs": [
    {
     "data": {
      "text/html": [
       "<div>\n",
       "<style scoped>\n",
       "    .dataframe tbody tr th:only-of-type {\n",
       "        vertical-align: middle;\n",
       "    }\n",
       "\n",
       "    .dataframe tbody tr th {\n",
       "        vertical-align: top;\n",
       "    }\n",
       "\n",
       "    .dataframe thead th {\n",
       "        text-align: right;\n",
       "    }\n",
       "</style>\n",
       "<table border=\"1\" class=\"dataframe\">\n",
       "  <thead>\n",
       "    <tr style=\"text-align: right;\">\n",
       "      <th></th>\n",
       "      <th>Loan_ID</th>\n",
       "    </tr>\n",
       "  </thead>\n",
       "  <tbody>\n",
       "    <tr>\n",
       "      <th>0</th>\n",
       "      <td>LP001015</td>\n",
       "    </tr>\n",
       "    <tr>\n",
       "      <th>1</th>\n",
       "      <td>LP001022</td>\n",
       "    </tr>\n",
       "    <tr>\n",
       "      <th>2</th>\n",
       "      <td>LP001031</td>\n",
       "    </tr>\n",
       "    <tr>\n",
       "      <th>3</th>\n",
       "      <td>LP001035</td>\n",
       "    </tr>\n",
       "    <tr>\n",
       "      <th>4</th>\n",
       "      <td>LP001051</td>\n",
       "    </tr>\n",
       "    <tr>\n",
       "      <th>...</th>\n",
       "      <td>...</td>\n",
       "    </tr>\n",
       "    <tr>\n",
       "      <th>362</th>\n",
       "      <td>LP002971</td>\n",
       "    </tr>\n",
       "    <tr>\n",
       "      <th>363</th>\n",
       "      <td>LP002975</td>\n",
       "    </tr>\n",
       "    <tr>\n",
       "      <th>364</th>\n",
       "      <td>LP002980</td>\n",
       "    </tr>\n",
       "    <tr>\n",
       "      <th>365</th>\n",
       "      <td>LP002986</td>\n",
       "    </tr>\n",
       "    <tr>\n",
       "      <th>366</th>\n",
       "      <td>LP002989</td>\n",
       "    </tr>\n",
       "  </tbody>\n",
       "</table>\n",
       "<p>367 rows × 1 columns</p>\n",
       "</div>"
      ],
      "text/plain": [
       "      Loan_ID\n",
       "0    LP001015\n",
       "1    LP001022\n",
       "2    LP001031\n",
       "3    LP001035\n",
       "4    LP001051\n",
       "..        ...\n",
       "362  LP002971\n",
       "363  LP002975\n",
       "364  LP002980\n",
       "365  LP002986\n",
       "366  LP002989\n",
       "\n",
       "[367 rows x 1 columns]"
      ]
     },
     "execution_count": 43,
     "metadata": {},
     "output_type": "execute_result"
    }
   ],
   "source": [
    "C"
   ]
  },
  {
   "cell_type": "code",
   "execution_count": 44,
   "id": "e8562347",
   "metadata": {},
   "outputs": [],
   "source": [
    "C['Loan_Status_Predicted'] = pred"
   ]
  },
  {
   "cell_type": "code",
   "execution_count": 45,
   "id": "8fb490c1",
   "metadata": {},
   "outputs": [
    {
     "data": {
      "text/html": [
       "<div>\n",
       "<style scoped>\n",
       "    .dataframe tbody tr th:only-of-type {\n",
       "        vertical-align: middle;\n",
       "    }\n",
       "\n",
       "    .dataframe tbody tr th {\n",
       "        vertical-align: top;\n",
       "    }\n",
       "\n",
       "    .dataframe thead th {\n",
       "        text-align: right;\n",
       "    }\n",
       "</style>\n",
       "<table border=\"1\" class=\"dataframe\">\n",
       "  <thead>\n",
       "    <tr style=\"text-align: right;\">\n",
       "      <th></th>\n",
       "      <th>Loan_ID</th>\n",
       "      <th>Loan_Status_Predicted</th>\n",
       "    </tr>\n",
       "  </thead>\n",
       "  <tbody>\n",
       "    <tr>\n",
       "      <th>0</th>\n",
       "      <td>LP001015</td>\n",
       "      <td>Y</td>\n",
       "    </tr>\n",
       "    <tr>\n",
       "      <th>1</th>\n",
       "      <td>LP001022</td>\n",
       "      <td>Y</td>\n",
       "    </tr>\n",
       "    <tr>\n",
       "      <th>2</th>\n",
       "      <td>LP001031</td>\n",
       "      <td>Y</td>\n",
       "    </tr>\n",
       "    <tr>\n",
       "      <th>3</th>\n",
       "      <td>LP001035</td>\n",
       "      <td>Y</td>\n",
       "    </tr>\n",
       "    <tr>\n",
       "      <th>4</th>\n",
       "      <td>LP001051</td>\n",
       "      <td>Y</td>\n",
       "    </tr>\n",
       "    <tr>\n",
       "      <th>...</th>\n",
       "      <td>...</td>\n",
       "      <td>...</td>\n",
       "    </tr>\n",
       "    <tr>\n",
       "      <th>362</th>\n",
       "      <td>LP002971</td>\n",
       "      <td>Y</td>\n",
       "    </tr>\n",
       "    <tr>\n",
       "      <th>363</th>\n",
       "      <td>LP002975</td>\n",
       "      <td>Y</td>\n",
       "    </tr>\n",
       "    <tr>\n",
       "      <th>364</th>\n",
       "      <td>LP002980</td>\n",
       "      <td>Y</td>\n",
       "    </tr>\n",
       "    <tr>\n",
       "      <th>365</th>\n",
       "      <td>LP002986</td>\n",
       "      <td>Y</td>\n",
       "    </tr>\n",
       "    <tr>\n",
       "      <th>366</th>\n",
       "      <td>LP002989</td>\n",
       "      <td>Y</td>\n",
       "    </tr>\n",
       "  </tbody>\n",
       "</table>\n",
       "<p>367 rows × 2 columns</p>\n",
       "</div>"
      ],
      "text/plain": [
       "      Loan_ID Loan_Status_Predicted\n",
       "0    LP001015                     Y\n",
       "1    LP001022                     Y\n",
       "2    LP001031                     Y\n",
       "3    LP001035                     Y\n",
       "4    LP001051                     Y\n",
       "..        ...                   ...\n",
       "362  LP002971                     Y\n",
       "363  LP002975                     Y\n",
       "364  LP002980                     Y\n",
       "365  LP002986                     Y\n",
       "366  LP002989                     Y\n",
       "\n",
       "[367 rows x 2 columns]"
      ]
     },
     "execution_count": 45,
     "metadata": {},
     "output_type": "execute_result"
    }
   ],
   "source": [
    "C"
   ]
  },
  {
   "cell_type": "code",
   "execution_count": null,
   "id": "7f338079",
   "metadata": {},
   "outputs": [],
   "source": []
  }
 ],
 "metadata": {
  "kernelspec": {
   "display_name": "Python 3 (ipykernel)",
   "language": "python",
   "name": "python3"
  },
  "language_info": {
   "codemirror_mode": {
    "name": "ipython",
    "version": 3
   },
   "file_extension": ".py",
   "mimetype": "text/x-python",
   "name": "python",
   "nbconvert_exporter": "python",
   "pygments_lexer": "ipython3",
   "version": "3.9.7"
  }
 },
 "nbformat": 4,
 "nbformat_minor": 5
}
